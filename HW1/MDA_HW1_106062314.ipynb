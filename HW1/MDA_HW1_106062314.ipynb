{
 "cells": [
  {
   "cell_type": "markdown",
   "metadata": {},
   "source": [
    "## HW1 Matrix Multiplication\n",
    "以下我以 markdown 的方式寫註解，解釋各個 cells 的運作內容，做為本次作業的 report。"
   ]
  },
  {
   "cell_type": "markdown",
   "metadata": {},
   "source": [
    "### Import libraries"
   ]
  },
  {
   "cell_type": "code",
   "execution_count": 1,
   "metadata": {},
   "outputs": [],
   "source": [
    "from pyspark import SparkConf, SparkContext\n",
    "import os"
   ]
  },
  {
   "cell_type": "markdown",
   "metadata": {},
   "source": [
    "### Mapper1\n",
    "將 input file 根據 ```\"\\n\"``` 切成一行一行，然後把每行轉換成 ```(j, ['M', i, m_ij])``` 或 ```(j, ['N', k, n_jk])``` 的 key-value pair。<br>\n",
    "Ex1. ```\"M,0,2,20\"``` → ```(2, ['M', 0, 20])```<br>\n",
    "Ex2. ```\"N,0,1,2\"``` → ```(0, ['N', 1, 2])```"
   ]
  },
  {
   "cell_type": "code",
   "execution_count": 2,
   "metadata": {},
   "outputs": [],
   "source": [
    "def mapper1(lines):\n",
    "    lines = lines.split(\"\\n\")\n",
    "    maplist = []\n",
    "    for line in lines:\n",
    "        items = line.split(\",\")\n",
    "        if items[0] == 'M':\n",
    "            maplist.append((int(items[2]), [items[0], int(items[1]), int(items[3])]))\n",
    "        elif items[0] == 'N':\n",
    "            maplist.append((int(items[1]), [items[0], int(items[2]), int(items[3])]))\n",
    "    return maplist"
   ]
  },
  {
   "cell_type": "markdown",
   "metadata": {},
   "source": [
    "### Mapper2\n",
    "將輸入的 key-value pair ```x``` 轉換成 ```[(i, k), m_ij*n_jk]``` 的 key-value pair。<br>\n",
    "Ex. ```[(0, (['M', 0, 10], ['N', 0, 1]))]``` → ```[(0, 0), 10]```"
   ]
  },
  {
   "cell_type": "code",
   "execution_count": 3,
   "metadata": {},
   "outputs": [],
   "source": [
    "def mapper2(x):\n",
    "    out = [(x[1][0][1], x[1][1][1]), x[1][0][2] * x[1][1][2]]\n",
    "    return out"
   ]
  },
  {
   "cell_type": "markdown",
   "metadata": {},
   "source": [
    "### Reducer1\n",
    "將所有擁有相同 key 的 key-value pair 的值相加。"
   ]
  },
  {
   "cell_type": "code",
   "execution_count": 4,
   "metadata": {},
   "outputs": [],
   "source": [
    "def reducer1(x, y):\n",
    "    return x+y"
   ]
  },
  {
   "cell_type": "markdown",
   "metadata": {},
   "source": [
    "### Step1\n",
    "首先，將檔案 ```500input.txt``` 讀取，經過 mapper1 ，得到第一組 key-value pairs（詳見 function 定義處）。"
   ]
  },
  {
   "cell_type": "code",
   "execution_count": 5,
   "metadata": {},
   "outputs": [
    {
     "data": {
      "text/plain": [
       "[(0, ['M', 0, 51])]"
      ]
     },
     "execution_count": 5,
     "metadata": {},
     "output_type": "execute_result"
    }
   ],
   "source": [
    "sc.stop()\n",
    "conf = SparkConf().setMaster(\"local\").setAppName(\"matmul\")\n",
    "sc = SparkContext(conf=conf)\n",
    "pairs = sc.textFile(\"500input.txt\").flatMap(mapper1)\n",
    "pairs.take(1)"
   ]
  },
  {
   "cell_type": "markdown",
   "metadata": {},
   "source": [
    "### Step2\n",
    "接著使用 ```filter``` 函數，將矩陣 M 的 key-value pairs 跟矩陣 N 的 key-value pairs 分別存進 ```pairs_M``` 與 ```pairs_N``` 裡。"
   ]
  },
  {
   "cell_type": "code",
   "execution_count": 6,
   "metadata": {},
   "outputs": [
    {
     "data": {
      "text/plain": [
       "[(0, ['M', 0, 51])]"
      ]
     },
     "execution_count": 6,
     "metadata": {},
     "output_type": "execute_result"
    }
   ],
   "source": [
    "pairs_M = pairs.filter(lambda x: x[1][0] == 'M')\n",
    "pairs_N = pairs.filter(lambda x: x[1][0] == 'N')\n",
    "pairs_M.take(1)"
   ]
  },
  {
   "cell_type": "markdown",
   "metadata": {},
   "source": [
    "### Step3\n",
    "使用 ```join``` 函數，將 ```pairs_M``` 與 ```pairs_N``` 中 key 值一樣的 key-value pairs 組合在一起。<br>\n",
    "Ex. ```[0, ('M', 0, 10)]``` ```[0, ('N', 0, 1)]``` → ```[(0, (['M', 0, 10], ['N', 0, 1]))]```"
   ]
  },
  {
   "cell_type": "code",
   "execution_count": 7,
   "metadata": {},
   "outputs": [
    {
     "data": {
      "text/plain": [
       "[(0, (['M', 0, 51], ['N', 0, 73]))]"
      ]
     },
     "execution_count": 7,
     "metadata": {},
     "output_type": "execute_result"
    }
   ],
   "source": [
    "pairs = pairs_M.join(pairs_N)\n",
    "pairs.take(1)"
   ]
  },
  {
   "cell_type": "markdown",
   "metadata": {},
   "source": [
    "### Step4\n",
    "經過 mapper2，得到第二組 key-value pairs（詳見 function 定義處）。"
   ]
  },
  {
   "cell_type": "code",
   "execution_count": 8,
   "metadata": {},
   "outputs": [
    {
     "data": {
      "text/plain": [
       "[[(0, 0), 3723]]"
      ]
     },
     "execution_count": 8,
     "metadata": {},
     "output_type": "execute_result"
    }
   ],
   "source": [
    "pairs = pairs.map(mapper2)\n",
    "pairs.take(1)"
   ]
  },
  {
   "cell_type": "markdown",
   "metadata": {},
   "source": [
    "### Step5\n",
    "經過 reducer1，將所有擁有相同 key 的 key-value pair 的值相加，再透過 ```sortBy``` 函數，依照 ```i```、```k``` 大小排序。"
   ]
  },
  {
   "cell_type": "code",
   "execution_count": 9,
   "metadata": {},
   "outputs": [],
   "source": [
    "pairs = pairs.reduceByKey(reducer1).sortBy(lambda x: (x[0][0], x[0][1]))"
   ]
  },
  {
   "cell_type": "markdown",
   "metadata": {},
   "source": [
    "### Step6\n",
    "最後，就可以將結果輸出成一份 txt 檔。"
   ]
  },
  {
   "cell_type": "code",
   "execution_count": 10,
   "metadata": {},
   "outputs": [],
   "source": [
    "f = open(\"./Outputfile.txt\", 'w')\n",
    "for pair in pairs.collect():\n",
    "    f.write(\"%d,%d,%d\\n\" % (pair[0][0], pair[0][1], pair[1]))"
   ]
  },
  {
   "cell_type": "code",
   "execution_count": 11,
   "metadata": {},
   "outputs": [],
   "source": [
    "f.close()\n",
    "sc.stop()"
   ]
  },
  {
   "cell_type": "code",
   "execution_count": null,
   "metadata": {},
   "outputs": [],
   "source": []
  }
 ],
 "metadata": {
  "kernelspec": {
   "display_name": "Python 3",
   "language": "python",
   "name": "python3"
  },
  "language_info": {
   "codemirror_mode": {
    "name": "ipython",
    "version": 3
   },
   "file_extension": ".py",
   "mimetype": "text/x-python",
   "name": "python",
   "nbconvert_exporter": "python",
   "pygments_lexer": "ipython3",
   "version": "3.6.10"
  }
 },
 "nbformat": 4,
 "nbformat_minor": 2
}
